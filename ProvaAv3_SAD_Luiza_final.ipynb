{
  "nbformat": 4,
  "nbformat_minor": 0,
  "metadata": {
    "colab": {
      "name": "ProvaAv3_SAD.ipynb",
      "provenance": [],
      "collapsed_sections": [],
      "include_colab_link": true
    },
    "kernelspec": {
      "display_name": "Python 3",
      "language": "python",
      "name": "python3"
    }
  },
  "cells": [
    {
      "cell_type": "markdown",
      "metadata": {
        "id": "view-in-github",
        "colab_type": "text"
      },
      "source": [
        "<a href=\"https://colab.research.google.com/github/luizafortes/gc-2019-2-av3/blob/master/ProvaAv3_SAD_Luiza_final.ipynb\" target=\"_parent\"><img src=\"https://colab.research.google.com/assets/colab-badge.svg\" alt=\"Open In Colab\"/></a>"
      ]
    },
    {
      "cell_type": "markdown",
      "metadata": {
        "id": "reuEvXQklx3Z",
        "colab_type": "text"
      },
      "source": [
        "DISCIPLINA: Gestão do Conhecimento \tPROFESSOR(A): Alex Salgado \n",
        " \n",
        "PERÍODO: 7o. \t\t\t\tTURNO: noite \t\tAVALIAÇÃO: \n",
        " \n",
        "ALUNO(A): LUIZA RIVELLO DE MOURA FORTES\n",
        " \n",
        "GRAU: \t\t\t\t\t\t\tVISTO DO PROFESSOR:\n",
        " \n",
        "Preencha sua resposta no próprio arquivo do Jupyter e depois me envie no link abaixo:\n",
        "resposta: https://goo.gl/forms/wuTdyyNoVXwVfD7v2\n"
      ]
    },
    {
      "cell_type": "markdown",
      "metadata": {
        "id": "-AjMlE5Slx3d",
        "colab_type": "text"
      },
      "source": [
        "## Questão 1 - valor (1,5)\n",
        "1.1 - Importar os modulos python para machine learn e carregar o arquivo pacotes-av3.xlsx usando o método read_excel do pandas"
      ]
    },
    {
      "cell_type": "code",
      "metadata": {
        "id": "zzv7qufwlx3h",
        "colab_type": "code",
        "colab": {}
      },
      "source": [
        "import pandas as pd\n",
        "import numpy as np\n",
        "import matplotlib.pyplot as plt\n",
        "% matplotlib inline\n",
        "plt.style.use('ggplot')"
      ],
      "execution_count": 0,
      "outputs": []
    },
    {
      "cell_type": "code",
      "metadata": {
        "id": "g9Z7DLsLS_v2",
        "colab_type": "code",
        "colab": {
          "base_uri": "https://localhost:8080/",
          "height": 34
        },
        "outputId": "d024b12c-2e1a-4229-d3bf-b36ffc8ca84d"
      },
      "source": [
        "pacotes = pd.read_csv('https://raw.githubusercontent.com/luizafortes/gc-2019-2-av3/master/pacotes-av3%20-%20americano.csv')\n",
        "type(pacotes)"
      ],
      "execution_count": 60,
      "outputs": [
        {
          "output_type": "execute_result",
          "data": {
            "text/plain": [
              "pandas.core.frame.DataFrame"
            ]
          },
          "metadata": {
            "tags": []
          },
          "execution_count": 60
        }
      ]
    },
    {
      "cell_type": "markdown",
      "metadata": {
        "id": "bl-OxkXzlx3u",
        "colab_type": "text"
      },
      "source": [
        "1.2 - Exibir os primeiros registros desta tabela"
      ]
    },
    {
      "cell_type": "code",
      "metadata": {
        "id": "W5fGgvVNlx3x",
        "colab_type": "code",
        "colab": {
          "base_uri": "https://localhost:8080/",
          "height": 669
        },
        "outputId": "557d5dfa-f3c6-4462-a0df-e73ed14c7616"
      },
      "source": [
        "pacotes.head(20)"
      ],
      "execution_count": 78,
      "outputs": [
        {
          "output_type": "execute_result",
          "data": {
            "text/html": [
              "<div>\n",
              "<style scoped>\n",
              "    .dataframe tbody tr th:only-of-type {\n",
              "        vertical-align: middle;\n",
              "    }\n",
              "\n",
              "    .dataframe tbody tr th {\n",
              "        vertical-align: top;\n",
              "    }\n",
              "\n",
              "    .dataframe thead th {\n",
              "        text-align: right;\n",
              "    }\n",
              "</style>\n",
              "<table border=\"1\" class=\"dataframe\">\n",
              "  <thead>\n",
              "    <tr style=\"text-align: right;\">\n",
              "      <th></th>\n",
              "      <th>pacote</th>\n",
              "      <th>tipo_pacote</th>\n",
              "      <th>peso(gramas)</th>\n",
              "      <th>largura</th>\n",
              "      <th>altura</th>\n",
              "    </tr>\n",
              "  </thead>\n",
              "  <tbody>\n",
              "    <tr>\n",
              "      <th>0</th>\n",
              "      <td>1</td>\n",
              "      <td>carga fragil</td>\n",
              "      <td>960.0</td>\n",
              "      <td>18.30</td>\n",
              "      <td>14.6</td>\n",
              "    </tr>\n",
              "    <tr>\n",
              "      <th>1</th>\n",
              "      <td>1</td>\n",
              "      <td>carga fragil</td>\n",
              "      <td>900.0</td>\n",
              "      <td>17.14</td>\n",
              "      <td>13.6</td>\n",
              "    </tr>\n",
              "    <tr>\n",
              "      <th>2</th>\n",
              "      <td>1</td>\n",
              "      <td>carga fragil</td>\n",
              "      <td>880.0</td>\n",
              "      <td>15.30</td>\n",
              "      <td>14.4</td>\n",
              "    </tr>\n",
              "    <tr>\n",
              "      <th>3</th>\n",
              "      <td>2</td>\n",
              "      <td>carga especial</td>\n",
              "      <td>430.0</td>\n",
              "      <td>71.40</td>\n",
              "      <td>9.4</td>\n",
              "    </tr>\n",
              "    <tr>\n",
              "      <th>4</th>\n",
              "      <td>2</td>\n",
              "      <td>carga especial</td>\n",
              "      <td>420.0</td>\n",
              "      <td>12.86</td>\n",
              "      <td>9.2</td>\n",
              "    </tr>\n",
              "    <tr>\n",
              "      <th>5</th>\n",
              "      <td>2</td>\n",
              "      <td>carga especial</td>\n",
              "      <td>400.0</td>\n",
              "      <td>90.36</td>\n",
              "      <td>8.6</td>\n",
              "    </tr>\n",
              "    <tr>\n",
              "      <th>6</th>\n",
              "      <td>2</td>\n",
              "      <td>carga especial</td>\n",
              "      <td>400.0</td>\n",
              "      <td>63.30</td>\n",
              "      <td>8.6</td>\n",
              "    </tr>\n",
              "    <tr>\n",
              "      <th>7</th>\n",
              "      <td>2</td>\n",
              "      <td>carga especial</td>\n",
              "      <td>380.0</td>\n",
              "      <td>90.36</td>\n",
              "      <td>8.0</td>\n",
              "    </tr>\n",
              "    <tr>\n",
              "      <th>8</th>\n",
              "      <td>1</td>\n",
              "      <td>carga fragil</td>\n",
              "      <td>890.0</td>\n",
              "      <td>8.40</td>\n",
              "      <td>15.6</td>\n",
              "    </tr>\n",
              "    <tr>\n",
              "      <th>9</th>\n",
              "      <td>1</td>\n",
              "      <td>carga fragil</td>\n",
              "      <td>860.0</td>\n",
              "      <td>15.30</td>\n",
              "      <td>14.0</td>\n",
              "    </tr>\n",
              "    <tr>\n",
              "      <th>10</th>\n",
              "      <td>1</td>\n",
              "      <td>carga fragil</td>\n",
              "      <td>830.0</td>\n",
              "      <td>63.30</td>\n",
              "      <td>14.6</td>\n",
              "    </tr>\n",
              "    <tr>\n",
              "      <th>11</th>\n",
              "      <td>1</td>\n",
              "      <td>carga fragil</td>\n",
              "      <td>860.0</td>\n",
              "      <td>8.40</td>\n",
              "      <td>15.2</td>\n",
              "    </tr>\n",
              "    <tr>\n",
              "      <th>12</th>\n",
              "      <td>1</td>\n",
              "      <td>carga fragil</td>\n",
              "      <td>770.0</td>\n",
              "      <td>15.00</td>\n",
              "      <td>14.2</td>\n",
              "    </tr>\n",
              "    <tr>\n",
              "      <th>13</th>\n",
              "      <td>1</td>\n",
              "      <td>carga fragil</td>\n",
              "      <td>820.0</td>\n",
              "      <td>41.70</td>\n",
              "      <td>15.4</td>\n",
              "    </tr>\n",
              "    <tr>\n",
              "      <th>14</th>\n",
              "      <td>1</td>\n",
              "      <td>carga fragil</td>\n",
              "      <td>760.0</td>\n",
              "      <td>51.33</td>\n",
              "      <td>14.6</td>\n",
              "    </tr>\n",
              "    <tr>\n",
              "      <th>15</th>\n",
              "      <td>1</td>\n",
              "      <td>carga fragil</td>\n",
              "      <td>780.0</td>\n",
              "      <td>27.36</td>\n",
              "      <td>14.2</td>\n",
              "    </tr>\n",
              "    <tr>\n",
              "      <th>16</th>\n",
              "      <td>1</td>\n",
              "      <td>carga fragil</td>\n",
              "      <td>780.0</td>\n",
              "      <td>51.33</td>\n",
              "      <td>15.0</td>\n",
              "    </tr>\n",
              "    <tr>\n",
              "      <th>17</th>\n",
              "      <td>1</td>\n",
              "      <td>carga fragil</td>\n",
              "      <td>840.0</td>\n",
              "      <td>78.30</td>\n",
              "      <td>15.2</td>\n",
              "    </tr>\n",
              "    <tr>\n",
              "      <th>18</th>\n",
              "      <td>1</td>\n",
              "      <td>carga fragil</td>\n",
              "      <td>810.0</td>\n",
              "      <td>78.30</td>\n",
              "      <td>14.2</td>\n",
              "    </tr>\n",
              "    <tr>\n",
              "      <th>19</th>\n",
              "      <td>1</td>\n",
              "      <td>carga fragil</td>\n",
              "      <td>810.0</td>\n",
              "      <td>15.30</td>\n",
              "      <td>14.4</td>\n",
              "    </tr>\n",
              "  </tbody>\n",
              "</table>\n",
              "</div>"
            ],
            "text/plain": [
              "    pacote     tipo_pacote  peso(gramas)  largura  altura\n",
              "0        1    carga fragil         960.0    18.30    14.6\n",
              "1        1    carga fragil         900.0    17.14    13.6\n",
              "2        1    carga fragil         880.0    15.30    14.4\n",
              "3        2  carga especial         430.0    71.40     9.4\n",
              "4        2  carga especial         420.0    12.86     9.2\n",
              "5        2  carga especial         400.0    90.36     8.6\n",
              "6        2  carga especial         400.0    63.30     8.6\n",
              "7        2  carga especial         380.0    90.36     8.0\n",
              "8        1    carga fragil         890.0     8.40    15.6\n",
              "9        1    carga fragil         860.0    15.30    14.0\n",
              "10       1    carga fragil         830.0    63.30    14.6\n",
              "11       1    carga fragil         860.0     8.40    15.2\n",
              "12       1    carga fragil         770.0    15.00    14.2\n",
              "13       1    carga fragil         820.0    41.70    15.4\n",
              "14       1    carga fragil         760.0    51.33    14.6\n",
              "15       1    carga fragil         780.0    27.36    14.2\n",
              "16       1    carga fragil         780.0    51.33    15.0\n",
              "17       1    carga fragil         840.0    78.30    15.2\n",
              "18       1    carga fragil         810.0    78.30    14.2\n",
              "19       1    carga fragil         810.0    15.30    14.4"
            ]
          },
          "metadata": {
            "tags": []
          },
          "execution_count": 78
        }
      ]
    },
    {
      "cell_type": "markdown",
      "metadata": {
        "id": "PCZSAexklx36",
        "colab_type": "text"
      },
      "source": [
        "## Questão 2 - valor (1,5)\n",
        "Utilizando as terminologias de Machine Learning(features e observações):  \n",
        "2.1 - Quantas \"features\" têm nessa base de dados?"
      ]
    },
    {
      "cell_type": "code",
      "metadata": {
        "id": "ph7yS0DWlx37",
        "colab_type": "code",
        "colab": {
          "base_uri": "https://localhost:8080/",
          "height": 34
        },
        "outputId": "a71b49f4-2490-4db8-df19-a647c424170a"
      },
      "source": [
        "pacotes.shape"
      ],
      "execution_count": 62,
      "outputs": [
        {
          "output_type": "execute_result",
          "data": {
            "text/plain": [
              "(87, 5)"
            ]
          },
          "metadata": {
            "tags": []
          },
          "execution_count": 62
        }
      ]
    },
    {
      "cell_type": "markdown",
      "metadata": {
        "id": "a2KZWlOHUqKD",
        "colab_type": "text"
      },
      "source": [
        "`Existem 5 features nessa base de dados`"
      ]
    },
    {
      "cell_type": "markdown",
      "metadata": {
        "id": "en8rJok0lx4A",
        "colab_type": "text"
      },
      "source": [
        "2.2 - Quantas observações têm nessa base de dados?"
      ]
    },
    {
      "cell_type": "code",
      "metadata": {
        "id": "uxZNnkxglx4C",
        "colab_type": "code",
        "colab": {
          "base_uri": "https://localhost:8080/",
          "height": 34
        },
        "outputId": "31f7a7fe-3574-40fc-d5c1-1b9baddd0ba0"
      },
      "source": [
        "pacotes.shape"
      ],
      "execution_count": 63,
      "outputs": [
        {
          "output_type": "execute_result",
          "data": {
            "text/plain": [
              "(87, 5)"
            ]
          },
          "metadata": {
            "tags": []
          },
          "execution_count": 63
        }
      ]
    },
    {
      "cell_type": "markdown",
      "metadata": {
        "id": "F--lyagIVGMb",
        "colab_type": "text"
      },
      "source": [
        "`Existem 87 observações nessa base de dados`"
      ]
    },
    {
      "cell_type": "markdown",
      "metadata": {
        "id": "P1Wr8CNulx4G",
        "colab_type": "text"
      },
      "source": [
        "## Questão 3 - valor (3,0)\n",
        "3.1 - Usando o algoritmo de KNN(11), qual a previsão? Adivinhe qual é o pacote com peso 787g, largura 86.8 cm, altura 18.88 cm, ou seja, com as seguintes features (peso = 787, largura=86.8, altura=18.88).\n"
      ]
    },
    {
      "cell_type": "code",
      "metadata": {
        "id": "KCLf3PqgXom6",
        "colab_type": "code",
        "colab": {}
      },
      "source": [
        "feature_names = []\n",
        "for column in pacotes.columns:\n",
        "    feature_names.append(column)\n",
        "feature_names.remove('pacote')\n",
        "feature_names.remove('tipo_pacote')"
      ],
      "execution_count": 0,
      "outputs": []
    },
    {
      "cell_type": "code",
      "metadata": {
        "id": "KEbvOIMtlx4H",
        "colab_type": "code",
        "colab": {
          "base_uri": "https://localhost:8080/",
          "height": 255
        },
        "outputId": "fac47f68-02fd-4ca7-8537-0fc90aa05d7a"
      },
      "source": [
        "# store feature matrix in \"X\"\n",
        "x = pacotes[feature_names]\n",
        "print(x)"
      ],
      "execution_count": 65,
      "outputs": [
        {
          "output_type": "stream",
          "text": [
            "    peso(gramas)  largura  altura\n",
            "0          960.0    18.30    14.6\n",
            "1          900.0    17.14    13.6\n",
            "2          880.0    15.30    14.4\n",
            "3          430.0    71.40     9.4\n",
            "4          420.0    12.86     9.2\n",
            "..           ...      ...     ...\n",
            "82         800.0    78.30    15.0\n",
            "83         780.0    15.30    14.8\n",
            "84         402.5    93.36     8.6\n",
            "85         402.5    66.30     8.6\n",
            "86         382.5    93.36     8.0\n",
            "\n",
            "[87 rows x 3 columns]\n"
          ],
          "name": "stdout"
        }
      ]
    },
    {
      "cell_type": "code",
      "metadata": {
        "id": "YuVxUk10bMdV",
        "colab_type": "code",
        "colab": {
          "base_uri": "https://localhost:8080/",
          "height": 68
        },
        "outputId": "56b68737-08ac-4801-c76a-3d40bf5b4b3a"
      },
      "source": [
        "# store response vector in \"y\"\n",
        "y = pacotes['pacote'].values\n",
        "print(y)"
      ],
      "execution_count": 66,
      "outputs": [
        {
          "output_type": "stream",
          "text": [
            "[1 1 1 2 2 2 2 2 1 1 1 1 1 1 1 1 1 1 1 1 1 1 2 2 2 1 1 3 3 3 3 3 3 3 3 3 3\n",
            " 3 3 3 3 3 3 3 3 3 4 4 4 4 4 4 4 4 4 4 4 4 4 4 4 4 1 1 1 2 2 2 2 2 1 1 1 1\n",
            " 1 1 1 1 1 1 1 1 1 1 2 2 2]\n"
          ],
          "name": "stdout"
        }
      ]
    },
    {
      "cell_type": "markdown",
      "metadata": {
        "id": "wc7IpI-xlx4N",
        "colab_type": "text"
      },
      "source": [
        "## Questão 4 - valor (4,0)\n",
        "Usando o método de avaliação de acurácia ( Train/Test Split), Calcular a acurácia de cada um dos 3 métodos abaixo.  \n",
        "\n",
        "\n",
        "\n",
        "4.1 - Acurácia usando o algoritmo de KNN (com 1 vizinho, k=1)\n"
      ]
    },
    {
      "cell_type": "code",
      "metadata": {
        "id": "uaidspMSlx4P",
        "colab_type": "code",
        "colab": {
          "base_uri": "https://localhost:8080/",
          "height": 102
        },
        "outputId": "a2c809c5-6727-44cc-b88d-57eef36f731c"
      },
      "source": [
        "from sklearn import metrics\n",
        "from sklearn.neighbors import KNeighborsClassifier as knc\n",
        "knn = knc(n_neighbors=1)\n",
        "print(knn)\n",
        "\n",
        "knn.fit(x, y)\n",
        "y_pred = knn.predict(x)\n",
        "print(metrics.accuracy_score(y,y_pred))\n",
        "\n",
        "from sklearn.model_selection import train_test_split as ts\n",
        "x_train, x_test, y_train, y_test = ts(x, y, test_size=0.4, random_state=4)\n",
        "knn = knc(n_neighbors=1)\n",
        "knn.fit(x_train, y_train)\n",
        "y_pred = knn.predict(x_test)\n",
        "print(metrics.accuracy_score(y_test, y_pred))"
      ],
      "execution_count": 71,
      "outputs": [
        {
          "output_type": "stream",
          "text": [
            "KNeighborsClassifier(algorithm='auto', leaf_size=30, metric='minkowski',\n",
            "                     metric_params=None, n_jobs=None, n_neighbors=1, p=2,\n",
            "                     weights='uniform')\n",
            "1.0\n",
            "0.7714285714285715\n"
          ],
          "name": "stdout"
        }
      ]
    },
    {
      "cell_type": "markdown",
      "metadata": {
        "id": "SWOBSfPXlx4S",
        "colab_type": "text"
      },
      "source": [
        "4.2 - Acurácia usando o algoritmo de KNN (com 5 vizinho, k=5)"
      ]
    },
    {
      "cell_type": "code",
      "metadata": {
        "id": "bQv2hVRulx4T",
        "colab_type": "code",
        "colab": {
          "base_uri": "https://localhost:8080/",
          "height": 102
        },
        "outputId": "8402712d-43e8-4cc5-8563-f8d5bb3e3f0a"
      },
      "source": [
        "from sklearn.neighbors import KNeighborsClassifier\n",
        "knn = KNeighborsClassifier(n_neighbors=5)\n",
        "print(knn)\n",
        "\n",
        "knn.fit(x, y)\n",
        "y_pred = knn.predict(x)\n",
        "print(metrics.accuracy_score(y,y_pred))\n",
        "\n",
        "from sklearn.model_selection import train_test_split as ts\n",
        "x_train, x_test, y_train, y_test = ts(x, y, test_size=0.4, random_state=4)\n",
        "knn = knc(n_neighbors=5)\n",
        "knn.fit(x_train, y_train)\n",
        "y_pred = knn.predict(x_test)\n",
        "print(metrics.accuracy_score(y_test, y_pred))"
      ],
      "execution_count": 75,
      "outputs": [
        {
          "output_type": "stream",
          "text": [
            "KNeighborsClassifier(algorithm='auto', leaf_size=30, metric='minkowski',\n",
            "                     metric_params=None, n_jobs=None, n_neighbors=5, p=2,\n",
            "                     weights='uniform')\n",
            "0.7931034482758621\n",
            "0.8285714285714286\n"
          ],
          "name": "stdout"
        }
      ]
    },
    {
      "cell_type": "markdown",
      "metadata": {
        "id": "vLF_1RsRlx4Y",
        "colab_type": "text"
      },
      "source": [
        "4.3 - Acurácia usando o algoritmo de LogisticRegression"
      ]
    },
    {
      "cell_type": "code",
      "metadata": {
        "id": "onNHe7r4lx4Z",
        "colab_type": "code",
        "colab": {
          "base_uri": "https://localhost:8080/",
          "height": 170
        },
        "outputId": "d9433c8d-8432-4303-d084-3ac88f7d2af4"
      },
      "source": [
        "from sklearn.linear_model import LogisticRegression as lr\n",
        "logreg = lr()\n",
        "logreg.fit(x,y)\n",
        "logreg.predict(x)\n",
        "y_pred = logreg.predict(x)\n",
        "len(y_pred)\n",
        "\n",
        "from sklearn import metrics\n",
        "metrics.accuracy_score(y,y_pred)\n",
        "logreg = lr()\n",
        "logreg.fit(x_train, y_train)\n",
        "y_pred = logreg.predict(x_test)\n",
        "print(metrics.accuracy_score(y_test, y_pred))"
      ],
      "execution_count": 76,
      "outputs": [
        {
          "output_type": "stream",
          "text": [
            "0.6857142857142857\n"
          ],
          "name": "stdout"
        },
        {
          "output_type": "stream",
          "text": [
            "/usr/local/lib/python3.6/dist-packages/sklearn/linear_model/logistic.py:432: FutureWarning: Default solver will be changed to 'lbfgs' in 0.22. Specify a solver to silence this warning.\n",
            "  FutureWarning)\n",
            "/usr/local/lib/python3.6/dist-packages/sklearn/linear_model/logistic.py:469: FutureWarning: Default multi_class will be changed to 'auto' in 0.22. Specify the multi_class option to silence this warning.\n",
            "  \"this warning.\", FutureWarning)\n",
            "/usr/local/lib/python3.6/dist-packages/sklearn/linear_model/logistic.py:432: FutureWarning: Default solver will be changed to 'lbfgs' in 0.22. Specify a solver to silence this warning.\n",
            "  FutureWarning)\n",
            "/usr/local/lib/python3.6/dist-packages/sklearn/linear_model/logistic.py:469: FutureWarning: Default multi_class will be changed to 'auto' in 0.22. Specify the multi_class option to silence this warning.\n",
            "  \"this warning.\", FutureWarning)\n"
          ],
          "name": "stderr"
        }
      ]
    },
    {
      "cell_type": "markdown",
      "metadata": {
        "id": "tEhjoBYnlx4e",
        "colab_type": "text"
      },
      "source": [
        "4.4 - De acordo com seus resultados anteriores, qual dos 3 métodos é mais eficiente?"
      ]
    },
    {
      "cell_type": "markdown",
      "metadata": {
        "id": "c2JkFVY7lx4g",
        "colab_type": "text"
      },
      "source": [
        "O método mais eficiente foi o 2º que usou o algoritmo de KNN com 5 vizinhos k=5"
      ]
    }
  ]
}